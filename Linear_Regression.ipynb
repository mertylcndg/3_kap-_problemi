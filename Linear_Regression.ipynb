{
  "nbformat": 4,
  "nbformat_minor": 0,
  "metadata": {
    "colab": {
      "name": "Linear-Regression.ipynb",
      "provenance": [],
      "authorship_tag": "ABX9TyMPK3y8mj/9pBXtxELrdKxW",
      "include_colab_link": true
    },
    "kernelspec": {
      "name": "python3",
      "display_name": "Python 3"
    },
    "language_info": {
      "name": "python"
    }
  },
  "cells": [
    {
      "cell_type": "markdown",
      "metadata": {
        "id": "view-in-github",
        "colab_type": "text"
      },
      "source": [
        "<a href=\"https://colab.research.google.com/github/mertylcndg/Introduction_to_Machine_Learning/blob/main/Linear_Regression.ipynb\" target=\"_parent\"><img src=\"https://colab.research.google.com/assets/colab-badge.svg\" alt=\"Open In Colab\"/></a>"
      ]
    },
    {
      "cell_type": "code",
      "execution_count": 1,
      "metadata": {
        "colab": {
          "base_uri": "https://localhost:8080/"
        },
        "id": "Ejk4WbDCaXBR",
        "outputId": "534f0696-2fc8-4867-ccb1-3f3d09feb1a3"
      },
      "outputs": [
        {
          "output_type": "stream",
          "name": "stdout",
          "text": [
            "Mounted at /content/drive\n"
          ]
        }
      ],
      "source": [
        "import numpy as np # linear algebra\n",
        "import pandas as pd # data processing, CSV file I/O (e.g. pd.read_csv)\n",
        "import seaborn as sns\n",
        "import matplotlib.pyplot as plt\n",
        "\n",
        "from google.colab import drive\n",
        "drive.mount('/content/drive')"
      ]
    },
    {
      "cell_type": "code",
      "source": [
        "data = pd.read_csv(\"/content/drive/MyDrive/Data/linear-regression-dataset.csv\",sep=\";\")"
      ],
      "metadata": {
        "id": "jBBB4J6raq1J"
      },
      "execution_count": 2,
      "outputs": []
    },
    {
      "cell_type": "code",
      "source": [
        "data.head"
      ],
      "metadata": {
        "colab": {
          "base_uri": "https://localhost:8080/"
        },
        "id": "jAndQjKPa5Mv",
        "outputId": "85b736e2-e7ae-4b72-95a5-b9b91eb5c7c0"
      },
      "execution_count": 3,
      "outputs": [
        {
          "output_type": "execute_result",
          "data": {
            "text/plain": [
              "<bound method NDFrame.head of     experience  salary\n",
              "0          0.5    2500\n",
              "1          0.0    2250\n",
              "2          1.0    2750\n",
              "3          5.0    8000\n",
              "4          8.0    9000\n",
              "5          4.0    6900\n",
              "6         15.0   20000\n",
              "7          7.0    8500\n",
              "8          3.0    6000\n",
              "9          2.0    3500\n",
              "10        12.0   15000\n",
              "11        10.0   13000\n",
              "12        14.0   18000\n",
              "13         6.0    7500>"
            ]
          },
          "metadata": {},
          "execution_count": 3
        }
      ]
    },
    {
      "cell_type": "code",
      "source": [
        "data.info()"
      ],
      "metadata": {
        "colab": {
          "base_uri": "https://localhost:8080/"
        },
        "id": "R-rdpDkEbzLR",
        "outputId": "0f88d676-fec9-4fe1-f805-802b39b80147"
      },
      "execution_count": 4,
      "outputs": [
        {
          "output_type": "stream",
          "name": "stdout",
          "text": [
            "<class 'pandas.core.frame.DataFrame'>\n",
            "RangeIndex: 14 entries, 0 to 13\n",
            "Data columns (total 2 columns):\n",
            " #   Column      Non-Null Count  Dtype  \n",
            "---  ------      --------------  -----  \n",
            " 0   experience  14 non-null     float64\n",
            " 1   salary      14 non-null     int64  \n",
            "dtypes: float64(1), int64(1)\n",
            "memory usage: 352.0 bytes\n"
          ]
        }
      ]
    },
    {
      "cell_type": "code",
      "source": [
        "plt.scatter(data.experience,data.salary)\n",
        "plt.xlabel(\"Experience\")\n",
        "plt.ylabel(\"Salary\")\n",
        "plt.show()"
      ],
      "metadata": {
        "colab": {
          "base_uri": "https://localhost:8080/",
          "height": 279
        },
        "id": "acoMwj7-bKrX",
        "outputId": "6ec9efba-f7f3-455e-e556-f3682d68e66a"
      },
      "execution_count": 5,
      "outputs": [
        {
          "output_type": "display_data",
          "data": {
            "text/plain": [
              "<Figure size 432x288 with 1 Axes>"
            ],
            "image/png": "[encoded data removed]"
          },
          "metadata": {
            "needs_background": "light"
          }
        }
      ]
    },
    {
      "cell_type": "code",
      "source": [
        "#%% linear regression\n",
        "# sklearn library\n",
        "from sklearn.linear_model import LinearRegression\n",
        "\n",
        "# linear regression model\n",
        "linear_reg = LinearRegression()\n",
        "\n",
        "x = data.experience.values.reshape(14,1)\n",
        "y = data.salary.values.reshape(14,1)\n",
        "\n",
        "linear_reg.fit(x,y)"
      ],
      "metadata": {
        "colab": {
          "base_uri": "https://localhost:8080/"
        },
        "id": "IKiWnLAobYWI",
        "outputId": "5ddcf589-34f6-4fb4-ec87-a75c893efaa9"
      },
      "execution_count": 6,
      "outputs": [
        {
          "output_type": "execute_result",
          "data": {
            "text/plain": [
              "LinearRegression()"
            ]
          },
          "metadata": {},
          "execution_count": 6
        }
      ]
    },
    {
      "cell_type": "code",
      "source": [
        "#%% prediction\n",
        "import numpy as np\n",
        "\n",
        "b0 = linear_reg.predict([[0]])\n",
        "print(\"b0: \",b0)\n",
        "\n",
        "\n"
      ],
      "metadata": {
        "colab": {
          "base_uri": "https://localhost:8080/"
        },
        "id": "QGSYANxJb_jG",
        "outputId": "55f23551-1649-4f87-a51a-209e3882c2d5"
      },
      "execution_count": 7,
      "outputs": [
        {
          "output_type": "stream",
          "name": "stdout",
          "text": [
            "b0:  [[1663.89519747]]\n"
          ]
        }
      ]
    },
    {
      "cell_type": "code",
      "source": [
        "array = np.array([0,1,2,3,4,5,6,7,8,9,10,11,12,13,14,15]).reshape(-1,1)\n",
        "y_head = linear_reg.predict(array)  # salary\n",
        "plt.scatter(x,y)\n",
        "plt.plot(array, y_head,color = \"red\")\n",
        "plt.show()"
      ],
      "metadata": {
        "colab": {
          "base_uri": "https://localhost:8080/",
          "height": 265
        },
        "id": "9BOdMhcucMrw",
        "outputId": "6bfc5b8c-2b49-4734-c2b6-617617e6ad75"
      },
      "execution_count": 8,
      "outputs": [
        {
          "output_type": "display_data",
          "data": {
            "text/plain": [
              "<Figure size 432x288 with 1 Axes>"
            ],
            "image/png": "[encoded data removed]"
          },
          "metadata": {
            "needs_background": "light"
          }
        }
      ]
    },
    {
      "cell_type": "code",
      "source": [
        "b0_ = linear_reg.intercept_\n",
        "print(\"b0_: \",b0_)   # intercept the y-axis\n",
        "\n",
        "b1 = linear_reg.coef_\n",
        "print(\"b1: \",b1)   # slope\n",
        "\n",
        "# salary = 1663 + 1138*experience \n",
        "new_salary = 1663 + 1138*11\n",
        "print(new_salary)"
      ],
      "metadata": {
        "colab": {
          "base_uri": "https://localhost:8080/"
        },
        "id": "_CSSf6Z-c1sC",
        "outputId": "fce1436f-3a70-49df-f2a8-b400b1e451fa"
      },
      "execution_count": 9,
      "outputs": [
        {
          "output_type": "stream",
          "name": "stdout",
          "text": [
            "b0_:  [1663.89519747]\n",
            "b1:  [[1138.34819698]]\n",
            "14181\n"
          ]
        }
      ]
    },
    {
      "cell_type": "code",
      "source": [
        "b11 = linear_reg.predict([[12]])\n",
        "print(\"b11: \",b11)"
      ],
      "metadata": {
        "colab": {
          "base_uri": "https://localhost:8080/"
        },
        "id": "dDnnzxWedXR4",
        "outputId": "61bfd526-28f3-4c16-88e3-2855e241766b"
      },
      "execution_count": 10,
      "outputs": [
        {
          "output_type": "stream",
          "name": "stdout",
          "text": [
            "b11:  [[15324.07356118]]\n"
          ]
        }
      ]
    },
    {
      "cell_type": "code",
      "source": [
        "b100 = linear_reg.predict([[100]])\n",
        "print(\"b11: \",b100)"
      ],
      "metadata": {
        "colab": {
          "base_uri": "https://localhost:8080/"
        },
        "id": "rr6M9IHHdyWm",
        "outputId": "805f502d-1fbf-4b78-846c-fe84f10be9e9"
      },
      "execution_count": 11,
      "outputs": [
        {
          "output_type": "stream",
          "name": "stdout",
          "text": [
            "b11:  [[115498.71489503]]\n"
          ]
        }
      ]
    }
  ]
}